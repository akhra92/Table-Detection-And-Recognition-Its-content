{
  "nbformat": 4,
  "nbformat_minor": 0,
  "metadata": {
    "colab": {
      "provenance": []
    },
    "kernelspec": {
      "name": "python3",
      "display_name": "Python 3"
    },
    "language_info": {
      "name": "python"
    }
  },
  "cells": [
    {
      "cell_type": "code",
      "execution_count": null,
      "metadata": {
        "id": "El75q4YFhwHe"
      },
      "outputs": [],
      "source": [
        "!python -m pip install pyyaml==5.1"
      ]
    },
    {
      "cell_type": "code",
      "source": [
        "!python -m pip install 'git+https://github.com/facebookresearch/detectron2.git'"
      ],
      "metadata": {
        "id": "_Z10y4aFhw9E"
      },
      "execution_count": null,
      "outputs": []
    },
    {
      "cell_type": "code",
      "source": [
        "!pip install pycocotools>=2.0.1\n",
        "!pip install torch==1.9.0+cu102 torchvision==0.10.0+cu102 -f https://download.pytorch.org/whl/torch_stable.html\n",
        "import torch\n",
        "!pip install detectron2 -f https://dl.fbaipublicfiles.com/detectron2/wheels/cu102/torch1.9/index.html"
      ],
      "metadata": {
        "id": "dXLo2Esxh2PA"
      },
      "execution_count": null,
      "outputs": []
    },
    {
      "cell_type": "code",
      "source": [
        "!git clone https://github.com/akhra92/Table-Detection-and-Recognition-its-content\n",
        "!mv Table-Detection-and-Recognition-its-content/ Table-Detection-and-Recognition-its-content"
      ],
      "metadata": {
        "id": "zH74_7Vvh4Z8"
      },
      "execution_count": null,
      "outputs": []
    },
    {
      "cell_type": "code",
      "source": [
        "!sudo apt install tesseract-ocr \n",
        "!pip install pytesseract"
      ],
      "metadata": {
        "id": "3cfHvqQch-bB"
      },
      "execution_count": null,
      "outputs": []
    },
    {
      "cell_type": "code",
      "source": [
        "import detectron2\n",
        "import Table-Detection-and-Recognition-its-content.google_colab.deskew as deskew\n",
        "import Table-Detection-and-Recognition-its-content.google_colab.table_detection as table_detection\n",
        "import Table-Detection-and-Recognition-its-content.google_colab.table_structure_recognition_all as tsra\n",
        "import Table-Detection-and-Recognition-its-content.google_colab.table_structure_recognition_lines as tsrl\n",
        "import Table-Detection-and-Recognition-its-content.google_colab.table_structure_recognition_wol as tsrwol\n",
        "import Table-Detection-and-Recognition-its-content.google_colab.table_structure_recognition_lines_wol as tsrlwol\n",
        "import Table-Detection-and-Recognition-its-content.google_colab.table_xml as txml\n",
        "import Table-Detection-and-Recognition-its-content.google_colab.table_ocr as tocr\n",
        "import pandas as pd\n",
        "import os\n",
        "import json\n",
        "import itertools\n",
        "import random\n",
        "from detectron2.utils.logger import setup_logger\n",
        "# import some common libraries\n",
        "import numpy as np\n",
        "import cv2\n",
        "import matplotlib.pyplot as plt\n",
        "# import some common detectron2 utilities\n",
        "from detectron2 import model_zoo\n",
        "from detectron2.engine import DefaultPredictor\n",
        "from detectron2.config import get_cfg\n",
        "from detectron2.utils.visualizer import Visualizer\n",
        "from detectron2.data import MetadataCatalog\n",
        "from detectron2.data import DatasetCatalog, MetadataCatalog\n",
        "from google.colab.patches import cv2_imshow\n",
        "setup_logger()"
      ],
      "metadata": {
        "id": "j6YaggpniCFu"
      },
      "execution_count": null,
      "outputs": []
    },
    {
      "cell_type": "code",
      "source": [
        "cfg = get_cfg()\n",
        "\n",
        "cfg.merge_from_file('path/to/yaml/file')\n",
        "\n",
        "cfg.MODEL.WEIGHTS = 'path/to/weights/of/model'\n",
        "\n",
        "predictor = DefaultPredictor(cfg) "
      ],
      "metadata": {
        "id": "WJLQljUeiEJr"
      },
      "execution_count": null,
      "outputs": []
    },
    {
      "cell_type": "code",
      "source": [
        "document_img = cv2.imread(\"path/to/image\")\n",
        "table_detection.plot_prediction(document_img, predictor)"
      ],
      "metadata": {
        "id": "IDYtf2m9iHX0"
      },
      "execution_count": null,
      "outputs": []
    },
    {
      "cell_type": "code",
      "source": [
        "document_example = cv2.imread(\"path/to/image\")\n",
        "\n",
        "table_list, table_coords = table_detection.make_prediction(document_example, predictor)\n",
        "list_table_boxes = []\n",
        "for table in table_list:\n",
        "    finalboxes, output_img = tsrlwol.recognize_structure(table)\n",
        "    list_table_boxes.append(finalboxes)"
      ],
      "metadata": {
        "id": "W4IFM2D3iOv3"
      },
      "execution_count": null,
      "outputs": []
    },
    {
      "cell_type": "code",
      "source": [
        "tocr.output_to_csv(list_table_boxes[0], output_img)"
      ],
      "metadata": {
        "id": "-chG0VoOiVKG"
      },
      "execution_count": null,
      "outputs": []
    }
  ]
}